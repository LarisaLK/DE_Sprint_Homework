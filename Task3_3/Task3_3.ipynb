{
  "nbformat": 4,
  "nbformat_minor": 0,
  "metadata": {
    "colab": {
      "provenance": []
    },
    "kernelspec": {
      "name": "python3",
      "display_name": "Python 3"
    },
    "language_info": {
      "name": "python"
    }
  },
  "cells": [
    {
      "cell_type": "code",
      "source": [
        "# установка Spark в Colab\n",
        "\n",
        "!pip install pyspark"
      ],
      "metadata": {
        "colab": {
          "base_uri": "https://localhost:8080/"
        },
        "id": "WTvnKpL5GIV8",
        "outputId": "7c0f587d-93f5-432f-d58a-460f0c996a0c"
      },
      "execution_count": null,
      "outputs": [
        {
          "output_type": "stream",
          "name": "stdout",
          "text": [
            "Looking in indexes: https://pypi.org/simple, https://us-python.pkg.dev/colab-wheels/public/simple/\n",
            "Collecting pyspark\n",
            "  Downloading pyspark-3.3.1.tar.gz (281.4 MB)\n",
            "\u001b[K     |████████████████████████████████| 281.4 MB 43 kB/s \n",
            "\u001b[?25hCollecting py4j==0.10.9.5\n",
            "  Downloading py4j-0.10.9.5-py2.py3-none-any.whl (199 kB)\n",
            "\u001b[K     |████████████████████████████████| 199 kB 54.4 MB/s \n",
            "\u001b[?25hBuilding wheels for collected packages: pyspark\n",
            "  Building wheel for pyspark (setup.py) ... \u001b[?25l\u001b[?25hdone\n",
            "  Created wheel for pyspark: filename=pyspark-3.3.1-py2.py3-none-any.whl size=281845512 sha256=55bea0aa33f3909708c66cb92d27fe5c0db22da42f0978ab3e243707f8630d59\n",
            "  Stored in directory: /root/.cache/pip/wheels/43/dc/11/ec201cd671da62fa9c5cc77078235e40722170ceba231d7598\n",
            "Successfully built pyspark\n",
            "Installing collected packages: py4j, pyspark\n",
            "Successfully installed py4j-0.10.9.5 pyspark-3.3.1\n"
          ]
        }
      ]
    },
    {
      "cell_type": "code",
      "execution_count": null,
      "metadata": {
        "id": "j0ROL5BgBICF"
      },
      "outputs": [],
      "source": [
        "# импорт необходимых библиотек\n",
        "\n",
        "from pyspark.sql import SparkSession\n",
        "from pyspark import SparkConf, SparkContext\n",
        "\n",
        "import pyspark.sql.types as T\n",
        "import pyspark.sql.functions as F\n",
        "\n",
        "from datetime import datetime"
      ]
    },
    {
      "cell_type": "code",
      "source": [
        "conf = SparkConf()\n",
        "conf.setMaster('local').setAppName('task3_3')\n",
        "\n",
        "sc = SparkContext.getOrCreate(conf=conf)\n",
        "spark = SparkSession(sc)\n",
        "\n",
        "\n",
        "print('Spark: ', spark.version)"
      ],
      "metadata": {
        "id": "g9pL82BRGCN6",
        "colab": {
          "base_uri": "https://localhost:8080/"
        },
        "outputId": "14cfe522-78e4-4c01-fe5d-beb1bf5d44de"
      },
      "execution_count": 4,
      "outputs": [
        {
          "output_type": "stream",
          "name": "stdout",
          "text": [
            "Spark:  3.3.1\n"
          ]
        }
      ]
    },
    {
      "cell_type": "markdown",
      "source": [
        "a. Создать схему фрейма данных, которая включает следующие атрибуты: \n",
        "\n",
        "*   id - уникальный идентификатор посетителя сайта. Тип – последовательность чисел фиксированной длины. Данное поле не является первичным ключом.\n",
        "*   timestamp – дата и время события в формате unix timestamp.\n",
        "*   type – тип события, значение из списка (факт посещения(visit), клик по визуальному элементу страницы(click), скролл(scroll), перед на другую страницу(move)).\n",
        "*   page_id – id текущей страницы. Тип - последовательность чисел фиксированной длины.\n",
        "*   tag – каждая страница с новостью размечается редакцией специальными тегами, которые отражают тематику конкретной новости со страницы. Возможный список тематик: политика, спорт, медицина и т.д.\n",
        "*   sign – наличие у пользователя личного кабинета. Значения – True/False."
      ],
      "metadata": {
        "id": "DFLr-cYyK1-m"
      }
    },
    {
      "cell_type": "code",
      "source": [
        "schema = T.StructType([\n",
        "                       T.StructField('id', T.IntegerType(), False),\n",
        "                       T.StructField('timestamp', T.LongType(), True),\n",
        "                       T.StructField('type', T.StringType(), True),\n",
        "                       T.StructField('page_id', T.IntegerType(), True),\n",
        "                       T.StructField('tag', T.StringType(), True),\n",
        "                       T.StructField('sign', T.BooleanType(), True),\n",
        "                       ])"
      ],
      "metadata": {
        "id": "zrnUVHqPKtKV"
      },
      "execution_count": 5,
      "outputs": []
    },
    {
      "cell_type": "markdown",
      "source": [
        "b. Создать датафрейм с описанной выше схемой данных.\n",
        "\n",
        "c. Наполнить датафрейм данными. \n",
        "\n",
        "Пример: (12345, 1667627426, 'click', 101, 'Sport', False)"
      ],
      "metadata": {
        "id": "6fBN43v9MIXb"
      }
    },
    {
      "cell_type": "code",
      "source": [
        "webData = [(101, 1667202347, 'visit', 101, 'Sport', False),\n",
        "           (101, 1667202565, 'move', 101, 'Sport', False),\n",
        "           (101, 1667202347, 'click', 101, 'Sport', False),\n",
        "           (101, 1667803547, 'visit', 222, 'Politics', False),\n",
        "           (101, 1638941987, 'click', 202, 'Politics', False),\n",
        "           (101, 1619160500, 'move', 311, 'Politics', False),           \n",
        "           (21, 1634943260, 'visit', 412, 'Science', True),\n",
        "           (21, 1626103180, 'scroll', 140, 'Medicine', True),\n",
        "           (21, 1618119021, 'click', 431, 'Science', True),\n",
        "           (21, 1626071935, 'visit', 552, 'Business', True),\n",
        "           (21, 1620385526, 'click', 502, 'Medicine', True),\n",
        "           (21, 1636887856, 'visit', 611, 'Medicine', True),\n",
        "           (21, 1612165677, 'move', 345, 'Science', True),           \n",
        "           (303, 1626960036, 'visit', 101, 'Sport', False),\n",
        "           (303, 1626969999, 'click', 101, 'Sport', False),\n",
        "           (303, 1638007179, 'scroll', 101, 'Sport', False),\n",
        "           (303, 1617209174, 'visit', 107, 'Sport', False),\n",
        "           (303, 1629474919, 'scroll', 104, 'Sport', False),\n",
        "           (303, 1626960036, 'visit', 250, 'Sport', False),\n",
        "           (303, 1629863841, 'scroll', 250, 'Sport', False),           \n",
        "           (45, 1611557147, 'visit', 151, 'Fashion', False),\n",
        "           (45, 1611560747, 'visit', 151, 'Fashion', False),\n",
        "           (45, 1611564347, 'visit', 151, 'Fashion', False),           \n",
        "           (115, 1631865594, 'move', 101, 'Sport', True),\n",
        "           (115, 1636070942, 'move', 101, 'Sport', True),\n",
        "           (115, 1640307636, 'visit', 502, 'Medicine', True),\n",
        "           (115, 1618866891, 'click', 311, 'Politics', True),\n",
        "           (121, 1626960036, 'visit', 151, 'Fashion', True),\n",
        "           (121, 1638007179, 'scroll', 151, 'Fashion', True),\n",
        "           (121, 1617209174, 'visit', 708, 'Science', True),\n",
        "           (121, 1629474919, 'scroll', 316, 'Science', True),\n",
        "           (121, 1626960036, 'click', 406, 'Science', True),\n",
        "           (222, 1626960036, 'visit', 131, 'Politics', False),\n",
        "           (222, 1638007179, 'scroll', 154, 'Politics', False),\n",
        "           (222, 1617209174, 'visit', 234, 'Business', False),\n",
        "           (222, 1629474919, 'scroll', 505, 'Business', False),\n",
        "           (222, 1626960036, 'visit', 201, 'Business', False),\n",
        "          ]"
      ],
      "metadata": {
        "id": "60r_8fZxMOyh"
      },
      "execution_count": 30,
      "outputs": []
    },
    {
      "cell_type": "code",
      "source": [
        "df = spark.createDataFrame(data=webData, schema=schema)\n",
        "\n",
        "df = df.select(*[i for i in df.columns if i != 'timestamp'],\n",
        "          F.from_unixtime('timestamp').alias('event_time'))\n",
        "\n",
        "df.sort('id').show()"
      ],
      "metadata": {
        "colab": {
          "base_uri": "https://localhost:8080/"
        },
        "id": "pMOq8h9mQrFV",
        "outputId": "da41a762-7bd3-44fc-bbcb-d27d64baa06c"
      },
      "execution_count": 31,
      "outputs": [
        {
          "output_type": "stream",
          "name": "stdout",
          "text": [
            "+---+------+-------+--------+-----+-------------------+\n",
            "| id|  type|page_id|     tag| sign|         event_time|\n",
            "+---+------+-------+--------+-----+-------------------+\n",
            "| 21| visit|    611|Medicine| true|2021-11-14 11:04:16|\n",
            "| 21| click|    431| Science| true|2021-04-11 05:30:21|\n",
            "| 21|  move|    345| Science| true|2021-02-01 07:47:57|\n",
            "| 21| visit|    552|Business| true|2021-07-12 06:38:55|\n",
            "| 21| visit|    412| Science| true|2021-10-22 22:54:20|\n",
            "| 21|scroll|    140|Medicine| true|2021-07-12 15:19:40|\n",
            "| 21| click|    502|Medicine| true|2021-05-07 11:05:26|\n",
            "| 45| visit|    151| Fashion|false|2021-01-25 06:45:47|\n",
            "| 45| visit|    151| Fashion|false|2021-01-25 08:45:47|\n",
            "| 45| visit|    151| Fashion|false|2021-01-25 07:45:47|\n",
            "|101|  move|    101|   Sport|false|2022-10-31 07:49:25|\n",
            "|101| click|    101|   Sport|false|2022-10-31 07:45:47|\n",
            "|101| visit|    222|Politics|false|2022-11-07 06:45:47|\n",
            "|101| visit|    101|   Sport|false|2022-10-31 07:45:47|\n",
            "|101| click|    202|Politics|false|2021-12-08 05:39:47|\n",
            "|101|  move|    311|Politics|false|2021-04-23 06:48:20|\n",
            "|115|  move|    101|   Sport| true|2021-09-17 07:59:54|\n",
            "|115| visit|    502|Medicine| true|2021-12-24 01:00:36|\n",
            "|115|  move|    101|   Sport| true|2021-11-05 00:09:02|\n",
            "|115| click|    311|Politics| true|2021-04-19 21:14:51|\n",
            "+---+------+-------+--------+-----+-------------------+\n",
            "only showing top 20 rows\n",
            "\n"
          ]
        }
      ]
    },
    {
      "cell_type": "markdown",
      "source": [
        "d. Решить следующие задачи:\n",
        "\n",
        "*   Вывести топ-5 самых активных посетителей сайта.\n",
        "*   Посчитать процент посетителей, у которых есть ЛК.\n",
        "*   Вывести топ-5 страниц сайта по показателю общего кол-ва кликов на данной странице.\n",
        "*   Добавьте столбец к фрейму данных со значением временного диапазона в рамках суток с размером окна – 4 часа(0-4, 4-8, 8-12 и т.д.).\n",
        "*   Выведите временной промежуток на основе предыдущего задания, в течение которого было больше всего активностей на сайте.\n",
        "*   Создайте второй фрейм данных, который будет содержать информацию о ЛК посетителя сайта со следующим списком атрибутов:\n",
        "\n",
        "1.   Id – уникальный идентификатор личного кабинета\n",
        "2.   User_id – уникальный идентификатор посетителя\n",
        "3.   ФИО посетителя\n",
        "4.   Дату рождения посетителя\n",
        "5.   Дата создания ЛК\n",
        "\n",
        "*   Вывести фамилии посетителей, которые читали хотя бы одну новость про спорт.\n"
      ],
      "metadata": {
        "id": "C4Ybz6vWRBM1"
      }
    },
    {
      "cell_type": "code",
      "source": [
        "# топ-5 самых активных посетителей сайта\n",
        "\n",
        "df.groupby('id').count().orderBy('count', ascending=False).show(5)"
      ],
      "metadata": {
        "colab": {
          "base_uri": "https://localhost:8080/"
        },
        "id": "lUFHVqVNSPtj",
        "outputId": "d446c4a2-1c28-4417-95db-82c46f10902d"
      },
      "execution_count": 32,
      "outputs": [
        {
          "output_type": "stream",
          "name": "stdout",
          "text": [
            "+---+-----+\n",
            "| id|count|\n",
            "+---+-----+\n",
            "|303|    7|\n",
            "| 21|    7|\n",
            "|101|    6|\n",
            "|121|    5|\n",
            "|222|    5|\n",
            "+---+-----+\n",
            "only showing top 5 rows\n",
            "\n"
          ]
        }
      ]
    },
    {
      "cell_type": "code",
      "source": [
        "# процент посетителей, у которых есть ЛК\n",
        "\n",
        "usersAll = df.groupBy('id').count().distinct().count()\n",
        "usersRegisted = df.filter(df['sign']=='true').groupBy('id', 'sign').count().distinct().count()\n",
        "percent = (100*usersRegisted/usersAll)\n",
        "\n",
        "print('Процент посетителей, у которых есть ЛК составляет: ', percent, '%')"
      ],
      "metadata": {
        "colab": {
          "base_uri": "https://localhost:8080/"
        },
        "id": "u12gp4JkSkDI",
        "outputId": "60bc38aa-0a70-4558-90c9-916997c3a9dd"
      },
      "execution_count": 35,
      "outputs": [
        {
          "output_type": "stream",
          "name": "stdout",
          "text": [
            "Процент посетителей, у которых есть ЛК составляет:  42.857142857142854 %\n"
          ]
        }
      ]
    },
    {
      "cell_type": "code",
      "source": [
        "# топ-5 страниц сайта по показателю общего кол-ва кликов на данной странице\n",
        "\n",
        "df.filter(df['type']=='click').groupBy('page_id').count().orderBy('count', ascending=False).show(5)"
      ],
      "metadata": {
        "colab": {
          "base_uri": "https://localhost:8080/"
        },
        "id": "xaHfa_k_U5pw",
        "outputId": "2fc81dc6-b667-4366-e844-b812aea40e93"
      },
      "execution_count": 37,
      "outputs": [
        {
          "output_type": "stream",
          "name": "stdout",
          "text": [
            "+-------+-----+\n",
            "|page_id|count|\n",
            "+-------+-----+\n",
            "|    101|    2|\n",
            "|    406|    1|\n",
            "|    502|    1|\n",
            "|    431|    1|\n",
            "|    202|    1|\n",
            "+-------+-----+\n",
            "only showing top 5 rows\n",
            "\n"
          ]
        }
      ]
    },
    {
      "cell_type": "code",
      "source": [
        "# добавление столбца к фрейму данных со значением временного диапазона в рамках суток с размером окна – 4 часа(0-4, 4-8, 8-12 и т.д.)\n",
        "\n",
        "timeDF = df.withColumn('time_range', F.floor(F.hour('event_time') / F.lit(4)))\n",
        "timeDF.show()"
      ],
      "metadata": {
        "colab": {
          "base_uri": "https://localhost:8080/"
        },
        "id": "vyYtct0MV7w-",
        "outputId": "a98076ca-dc0a-4a30-e7f1-71ab0f4eb5df"
      },
      "execution_count": 39,
      "outputs": [
        {
          "output_type": "stream",
          "name": "stdout",
          "text": [
            "+---+------+-------+--------+-----+-------------------+----------+\n",
            "| id|  type|page_id|     tag| sign|         event_time|time_range|\n",
            "+---+------+-------+--------+-----+-------------------+----------+\n",
            "|101| visit|    101|   Sport|false|2022-10-31 07:45:47|         1|\n",
            "|101|  move|    101|   Sport|false|2022-10-31 07:49:25|         1|\n",
            "|101| click|    101|   Sport|false|2022-10-31 07:45:47|         1|\n",
            "|101| visit|    222|Politics|false|2022-11-07 06:45:47|         1|\n",
            "|101| click|    202|Politics|false|2021-12-08 05:39:47|         1|\n",
            "|101|  move|    311|Politics|false|2021-04-23 06:48:20|         1|\n",
            "| 21| visit|    412| Science| true|2021-10-22 22:54:20|         5|\n",
            "| 21|scroll|    140|Medicine| true|2021-07-12 15:19:40|         3|\n",
            "| 21| click|    431| Science| true|2021-04-11 05:30:21|         1|\n",
            "| 21| visit|    552|Business| true|2021-07-12 06:38:55|         1|\n",
            "| 21| click|    502|Medicine| true|2021-05-07 11:05:26|         2|\n",
            "| 21| visit|    611|Medicine| true|2021-11-14 11:04:16|         2|\n",
            "| 21|  move|    345| Science| true|2021-02-01 07:47:57|         1|\n",
            "|303| visit|    101|   Sport|false|2021-07-22 13:20:36|         3|\n",
            "|303| click|    101|   Sport|false|2021-07-22 16:06:39|         4|\n",
            "|303|scroll|    101|   Sport|false|2021-11-27 09:59:39|         2|\n",
            "|303| visit|    107|   Sport|false|2021-03-31 16:46:14|         4|\n",
            "|303|scroll|    104|   Sport|false|2021-08-20 15:55:19|         3|\n",
            "|303| visit|    250|   Sport|false|2021-07-22 13:20:36|         3|\n",
            "|303|scroll|    250|   Sport|false|2021-08-25 03:57:21|         0|\n",
            "+---+------+-------+--------+-----+-------------------+----------+\n",
            "only showing top 20 rows\n",
            "\n"
          ]
        }
      ]
    },
    {
      "cell_type": "code",
      "source": [
        "# временной промежуток на основе предыдущего задания, в течение которого было больше всего активностей на сайте\n",
        "\n",
        "maxTimeDF = timeDF.groupBy('time_range').count().orderBy('count', ascending = False)\n",
        "dictRange = {\n",
        "              0 : '0-4',\n",
        "              1 : '4-8',\n",
        "              2 : '8-12',\n",
        "              3 : '12-16',\n",
        "              4 : '16-20',\n",
        "              5 : '20-0'}"
      ],
      "metadata": {
        "id": "GckwWoaKWgku"
      },
      "execution_count": 40,
      "outputs": []
    },
    {
      "cell_type": "code",
      "source": [
        "maxTimeDF.select(F.when(maxTimeDF['time_range'].cast('int') == 0, dictRange[0]).when(maxTimeDF['time_range'].cast('int') == 1, dictRange[1]).when(maxTimeDF['time_range'].cast('int') == 2, dictRange[2]).when(maxTimeDF['time_range'].cast('int') == 3, dictRange[3]).when(maxTimeDF['time_range'].cast('int') == 4, dictRange[4]).otherwise(dictRange[5]).alias('period'), maxTimeDF['count']).show(1)"
      ],
      "metadata": {
        "colab": {
          "base_uri": "https://localhost:8080/"
        },
        "id": "JuNVNfQXZsaw",
        "outputId": "c5a1594f-4ccb-4f36-f2fe-c8725cb958ed"
      },
      "execution_count": 60,
      "outputs": [
        {
          "output_type": "stream",
          "name": "stdout",
          "text": [
            "+------+-----+\n",
            "|period|count|\n",
            "+------+-----+\n",
            "|   4-8|   12|\n",
            "+------+-----+\n",
            "only showing top 1 row\n",
            "\n"
          ]
        }
      ]
    },
    {
      "cell_type": "code",
      "source": [
        "# создание второго фрейма данных, который содержит информацию о ЛК посетителя сайта\n",
        "\n",
        "schemaUserLK = T.StructType([\n",
        "                              T.StructField('id', T.IntegerType(), True),\n",
        "                              T.StructField('user_id', T.IntegerType(), True),\n",
        "                              T.StructField('fio', T.StringType(), True),\n",
        "                              T.StructField('date_bd', T.DateType(), True),\n",
        "                              T.StructField('date_create', T.DateType(), True),\n",
        "                            ])\n",
        "\n",
        "# заполнение\n",
        "dataLK = [\n",
        "            (101, 21, 'Жигалов Артур Александрович', datetime.strptime('1994-12-31', '%Y-%m-%d'), datetime.strptime('2019-08-29', '%Y-%m-%d')),\n",
        "            (102, 115, 'Давыдов Антон Борисович', datetime.strptime('1983-01-29', '%Y-%m-%d'), datetime.strptime('2019-03-25', '%Y-%m-%d')),\n",
        "            (102, 121, 'Крюкова Кира Васильевна', datetime.strptime('1997-02-05', '%Y-%m-%d'), datetime.strptime('2019-07-11', '%Y-%m-%d'))\n",
        "         ]\n",
        "\n",
        "lkDF = spark.createDataFrame(data=dataLK, schema=schemaUserLK)"
      ],
      "metadata": {
        "id": "CSKZ-Ce9Zqjq"
      },
      "execution_count": 61,
      "outputs": []
    },
    {
      "cell_type": "code",
      "source": [
        "# фамилии посетителей, которые читали хотя бы одну новость про спорт\n",
        "\n",
        "df.join(lkDF, df['id'] == lkDF['user_id']).where(df['tag']=='Sport').groupBy(df['id'], 'fio').count().orderBy(df['id']).show()"
      ],
      "metadata": {
        "colab": {
          "base_uri": "https://localhost:8080/"
        },
        "id": "QA8JJJFCeRsy",
        "outputId": "9fe5a89c-88f2-4cf7-89f0-9dfb24f08d4c"
      },
      "execution_count": 65,
      "outputs": [
        {
          "output_type": "stream",
          "name": "stdout",
          "text": [
            "+---+--------------------+-----+\n",
            "| id|                 fio|count|\n",
            "+---+--------------------+-----+\n",
            "|115|Давыдов Антон Бор...|    2|\n",
            "+---+--------------------+-----+\n",
            "\n"
          ]
        }
      ]
    }
  ]
}