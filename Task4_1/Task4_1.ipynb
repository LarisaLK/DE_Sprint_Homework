{
  "cells": [
    {
      "cell_type": "code",
      "execution_count": null,
      "metadata": {
        "id": "NTQHclpGKabv"
      },
      "outputs": [],
      "source": [
        "# импорт необходимых библиотек\n",
        "\n",
        "import pandas as pd\n",
        "import numpy as np\n",
        "from sklearn.preprocessing import OneHotEncoder, StandardScaler\n",
        "from sklearn.compose import ColumnTransformer\n",
        "from sklearn.pipeline import make_pipeline\n",
        "from sklearn.model_selection import train_test_split,  RandomizedSearchCV\n",
        "\n",
        "from sklearn.linear_model import LogisticRegression\n",
        "from sklearn.neighbors import KNeighborsClassifier\n",
        "\n",
        "from sklearn.metrics import mean_squared_error, mean_absolute_error, r2_score, accuracy_score, precision_score, recall_score, roc_auc_score"
      ]
    },
    {
      "cell_type": "code",
      "execution_count": null,
      "metadata": {
        "id": "ZcSyXN2lKs7o"
      },
      "outputs": [],
      "source": [
        "# загружаем данные\n",
        "\n",
        "train_data = pd.read_csv('/content/train.csv')\n",
        "test_data = pd.read_csv('/content/test.csv')"
      ]
    },
    {
      "cell_type": "markdown",
      "metadata": {
        "id": "S5cS7qbGOFcE"
      },
      "source": [
        "Выведем информацию о наборе train.csv"
      ]
    },
    {
      "cell_type": "code",
      "execution_count": null,
      "metadata": {
        "colab": {
          "base_uri": "https://localhost:8080/",
          "height": 302
        },
        "id": "SnLalmRUMmqK",
        "outputId": "72828955-2b27-4495-e90b-37bb44bfdc8c"
      },
      "outputs": [
        {
          "output_type": "execute_result",
          "data": {
            "text/plain": [
              "   PassengerId  Survived  Pclass  \\\n",
              "0            1         0       3   \n",
              "1            2         1       1   \n",
              "2            3         1       3   \n",
              "3            4         1       1   \n",
              "4            5         0       3   \n",
              "\n",
              "                                                Name     Sex   Age  SibSp  \\\n",
              "0                            Braund, Mr. Owen Harris    male  22.0      1   \n",
              "1  Cumings, Mrs. John Bradley (Florence Briggs Th...  female  38.0      1   \n",
              "2                             Heikkinen, Miss. Laina  female  26.0      0   \n",
              "3       Futrelle, Mrs. Jacques Heath (Lily May Peel)  female  35.0      1   \n",
              "4                           Allen, Mr. William Henry    male  35.0      0   \n",
              "\n",
              "   Parch            Ticket     Fare Cabin Embarked  \n",
              "0      0         A/5 21171   7.2500   NaN        S  \n",
              "1      0          PC 17599  71.2833   C85        C  \n",
              "2      0  STON/O2. 3101282   7.9250   NaN        S  \n",
              "3      0            113803  53.1000  C123        S  \n",
              "4      0            373450   8.0500   NaN        S  "
            ],
            "text/html": [
              "\n",
              "  <div id=\"df-0658b235-b92e-4db2-8e9c-cffdba7770d0\">\n",
              "    <div class=\"colab-df-container\">\n",
              "      <div>\n",
              "<style scoped>\n",
              "    .dataframe tbody tr th:only-of-type {\n",
              "        vertical-align: middle;\n",
              "    }\n",
              "\n",
              "    .dataframe tbody tr th {\n",
              "        vertical-align: top;\n",
              "    }\n",
              "\n",
              "    .dataframe thead th {\n",
              "        text-align: right;\n",
              "    }\n",
              "</style>\n",
              "<table border=\"1\" class=\"dataframe\">\n",
              "  <thead>\n",
              "    <tr style=\"text-align: right;\">\n",
              "      <th></th>\n",
              "      <th>PassengerId</th>\n",
              "      <th>Survived</th>\n",
              "      <th>Pclass</th>\n",
              "      <th>Name</th>\n",
              "      <th>Sex</th>\n",
              "      <th>Age</th>\n",
              "      <th>SibSp</th>\n",
              "      <th>Parch</th>\n",
              "      <th>Ticket</th>\n",
              "      <th>Fare</th>\n",
              "      <th>Cabin</th>\n",
              "      <th>Embarked</th>\n",
              "    </tr>\n",
              "  </thead>\n",
              "  <tbody>\n",
              "    <tr>\n",
              "      <th>0</th>\n",
              "      <td>1</td>\n",
              "      <td>0</td>\n",
              "      <td>3</td>\n",
              "      <td>Braund, Mr. Owen Harris</td>\n",
              "      <td>male</td>\n",
              "      <td>22.0</td>\n",
              "      <td>1</td>\n",
              "      <td>0</td>\n",
              "      <td>A/5 21171</td>\n",
              "      <td>7.2500</td>\n",
              "      <td>NaN</td>\n",
              "      <td>S</td>\n",
              "    </tr>\n",
              "    <tr>\n",
              "      <th>1</th>\n",
              "      <td>2</td>\n",
              "      <td>1</td>\n",
              "      <td>1</td>\n",
              "      <td>Cumings, Mrs. John Bradley (Florence Briggs Th...</td>\n",
              "      <td>female</td>\n",
              "      <td>38.0</td>\n",
              "      <td>1</td>\n",
              "      <td>0</td>\n",
              "      <td>PC 17599</td>\n",
              "      <td>71.2833</td>\n",
              "      <td>C85</td>\n",
              "      <td>C</td>\n",
              "    </tr>\n",
              "    <tr>\n",
              "      <th>2</th>\n",
              "      <td>3</td>\n",
              "      <td>1</td>\n",
              "      <td>3</td>\n",
              "      <td>Heikkinen, Miss. Laina</td>\n",
              "      <td>female</td>\n",
              "      <td>26.0</td>\n",
              "      <td>0</td>\n",
              "      <td>0</td>\n",
              "      <td>STON/O2. 3101282</td>\n",
              "      <td>7.9250</td>\n",
              "      <td>NaN</td>\n",
              "      <td>S</td>\n",
              "    </tr>\n",
              "    <tr>\n",
              "      <th>3</th>\n",
              "      <td>4</td>\n",
              "      <td>1</td>\n",
              "      <td>1</td>\n",
              "      <td>Futrelle, Mrs. Jacques Heath (Lily May Peel)</td>\n",
              "      <td>female</td>\n",
              "      <td>35.0</td>\n",
              "      <td>1</td>\n",
              "      <td>0</td>\n",
              "      <td>113803</td>\n",
              "      <td>53.1000</td>\n",
              "      <td>C123</td>\n",
              "      <td>S</td>\n",
              "    </tr>\n",
              "    <tr>\n",
              "      <th>4</th>\n",
              "      <td>5</td>\n",
              "      <td>0</td>\n",
              "      <td>3</td>\n",
              "      <td>Allen, Mr. William Henry</td>\n",
              "      <td>male</td>\n",
              "      <td>35.0</td>\n",
              "      <td>0</td>\n",
              "      <td>0</td>\n",
              "      <td>373450</td>\n",
              "      <td>8.0500</td>\n",
              "      <td>NaN</td>\n",
              "      <td>S</td>\n",
              "    </tr>\n",
              "  </tbody>\n",
              "</table>\n",
              "</div>\n",
              "      <button class=\"colab-df-convert\" onclick=\"convertToInteractive('df-0658b235-b92e-4db2-8e9c-cffdba7770d0')\"\n",
              "              title=\"Convert this dataframe to an interactive table.\"\n",
              "              style=\"display:none;\">\n",
              "        \n",
              "  <svg xmlns=\"http://www.w3.org/2000/svg\" height=\"24px\"viewBox=\"0 0 24 24\"\n",
              "       width=\"24px\">\n",
              "    <path d=\"M0 0h24v24H0V0z\" fill=\"none\"/>\n",
              "    <path d=\"M18.56 5.44l.94 2.06.94-2.06 2.06-.94-2.06-.94-.94-2.06-.94 2.06-2.06.94zm-11 1L8.5 8.5l.94-2.06 2.06-.94-2.06-.94L8.5 2.5l-.94 2.06-2.06.94zm10 10l.94 2.06.94-2.06 2.06-.94-2.06-.94-.94-2.06-.94 2.06-2.06.94z\"/><path d=\"M17.41 7.96l-1.37-1.37c-.4-.4-.92-.59-1.43-.59-.52 0-1.04.2-1.43.59L10.3 9.45l-7.72 7.72c-.78.78-.78 2.05 0 2.83L4 21.41c.39.39.9.59 1.41.59.51 0 1.02-.2 1.41-.59l7.78-7.78 2.81-2.81c.8-.78.8-2.07 0-2.86zM5.41 20L4 18.59l7.72-7.72 1.47 1.35L5.41 20z\"/>\n",
              "  </svg>\n",
              "      </button>\n",
              "      \n",
              "  <style>\n",
              "    .colab-df-container {\n",
              "      display:flex;\n",
              "      flex-wrap:wrap;\n",
              "      gap: 12px;\n",
              "    }\n",
              "\n",
              "    .colab-df-convert {\n",
              "      background-color: #E8F0FE;\n",
              "      border: none;\n",
              "      border-radius: 50%;\n",
              "      cursor: pointer;\n",
              "      display: none;\n",
              "      fill: #1967D2;\n",
              "      height: 32px;\n",
              "      padding: 0 0 0 0;\n",
              "      width: 32px;\n",
              "    }\n",
              "\n",
              "    .colab-df-convert:hover {\n",
              "      background-color: #E2EBFA;\n",
              "      box-shadow: 0px 1px 2px rgba(60, 64, 67, 0.3), 0px 1px 3px 1px rgba(60, 64, 67, 0.15);\n",
              "      fill: #174EA6;\n",
              "    }\n",
              "\n",
              "    [theme=dark] .colab-df-convert {\n",
              "      background-color: #3B4455;\n",
              "      fill: #D2E3FC;\n",
              "    }\n",
              "\n",
              "    [theme=dark] .colab-df-convert:hover {\n",
              "      background-color: #434B5C;\n",
              "      box-shadow: 0px 1px 3px 1px rgba(0, 0, 0, 0.15);\n",
              "      filter: drop-shadow(0px 1px 2px rgba(0, 0, 0, 0.3));\n",
              "      fill: #FFFFFF;\n",
              "    }\n",
              "  </style>\n",
              "\n",
              "      <script>\n",
              "        const buttonEl =\n",
              "          document.querySelector('#df-0658b235-b92e-4db2-8e9c-cffdba7770d0 button.colab-df-convert');\n",
              "        buttonEl.style.display =\n",
              "          google.colab.kernel.accessAllowed ? 'block' : 'none';\n",
              "\n",
              "        async function convertToInteractive(key) {\n",
              "          const element = document.querySelector('#df-0658b235-b92e-4db2-8e9c-cffdba7770d0');\n",
              "          const dataTable =\n",
              "            await google.colab.kernel.invokeFunction('convertToInteractive',\n",
              "                                                     [key], {});\n",
              "          if (!dataTable) return;\n",
              "\n",
              "          const docLinkHtml = 'Like what you see? Visit the ' +\n",
              "            '<a target=\"_blank\" href=https://colab.research.google.com/notebooks/data_table.ipynb>data table notebook</a>'\n",
              "            + ' to learn more about interactive tables.';\n",
              "          element.innerHTML = '';\n",
              "          dataTable['output_type'] = 'display_data';\n",
              "          await google.colab.output.renderOutput(dataTable, element);\n",
              "          const docLink = document.createElement('div');\n",
              "          docLink.innerHTML = docLinkHtml;\n",
              "          element.appendChild(docLink);\n",
              "        }\n",
              "      </script>\n",
              "    </div>\n",
              "  </div>\n",
              "  "
            ]
          },
          "metadata": {},
          "execution_count": 3
        }
      ],
      "source": [
        "# первые 5 записей набора данных\n",
        "\n",
        "train_data.head(5)"
      ]
    },
    {
      "cell_type": "code",
      "execution_count": null,
      "metadata": {
        "colab": {
          "base_uri": "https://localhost:8080/"
        },
        "id": "I59njoXDNiyi",
        "outputId": "cc33aabf-342d-43fb-8dc8-57230bfcf7f1"
      },
      "outputs": [
        {
          "output_type": "execute_result",
          "data": {
            "text/plain": [
              "(891, 12)"
            ]
          },
          "metadata": {},
          "execution_count": 4
        }
      ],
      "source": [
        "# размер данных\n",
        "\n",
        "train_data.shape"
      ]
    },
    {
      "cell_type": "code",
      "execution_count": null,
      "metadata": {
        "colab": {
          "base_uri": "https://localhost:8080/"
        },
        "id": "i951Ml__Nmco",
        "outputId": "3577f507-b677-44d2-8872-54eafb1c4224"
      },
      "outputs": [
        {
          "output_type": "stream",
          "name": "stdout",
          "text": [
            "<class 'pandas.core.frame.DataFrame'>\n",
            "RangeIndex: 891 entries, 0 to 890\n",
            "Data columns (total 12 columns):\n",
            " #   Column       Non-Null Count  Dtype  \n",
            "---  ------       --------------  -----  \n",
            " 0   PassengerId  891 non-null    int64  \n",
            " 1   Survived     891 non-null    int64  \n",
            " 2   Pclass       891 non-null    int64  \n",
            " 3   Name         891 non-null    object \n",
            " 4   Sex          891 non-null    object \n",
            " 5   Age          714 non-null    float64\n",
            " 6   SibSp        891 non-null    int64  \n",
            " 7   Parch        891 non-null    int64  \n",
            " 8   Ticket       891 non-null    object \n",
            " 9   Fare         891 non-null    float64\n",
            " 10  Cabin        204 non-null    object \n",
            " 11  Embarked     889 non-null    object \n",
            "dtypes: float64(2), int64(5), object(5)\n",
            "memory usage: 83.7+ KB\n"
          ]
        }
      ],
      "source": [
        "# общая информация о фрейме данных\n",
        "\n",
        "train_data.info()"
      ]
    },
    {
      "cell_type": "markdown",
      "metadata": {
        "id": "iO10C-igOM83"
      },
      "source": [
        "Таким образом, набор train.csv содержит 891 запись, каждая из которых описывается 12 признаками:\n",
        "\n",
        "1.   PassengerId - уникальный номер пользователя;\n",
        "2.   Survived - указатель выжил или нет пассажир;\n",
        "3.   Pclass - класс билета;\n",
        "4.   Name - имя пассажира;\n",
        "5.   Sex - пол;\n",
        "6.   Age - возраст;\n",
        "7.   SibSp - количество братьев и сестер / супругов на борту «Титаника»;\n",
        "8.   Parch - количество родителей / детей на борту «Титаника»;\n",
        "9.   Ticket - номер билета;\n",
        "10.   Fare - пассажирский тариф;\n",
        "11.   Cabin - номер каюты;\n",
        "12.   Embarked - порт погрузки. \n",
        "\n",
        "Типы данных признаков: вещественный - float64 (2 признака), целочисленный - int64 (5 признаков), строковый - object (5 признаков).\n"
      ]
    },
    {
      "cell_type": "code",
      "execution_count": null,
      "metadata": {
        "colab": {
          "base_uri": "https://localhost:8080/"
        },
        "id": "sQ6eW5enQzYg",
        "outputId": "055dc46f-acbb-4cec-9368-4aea6fd7ad7c"
      },
      "outputs": [
        {
          "output_type": "stream",
          "name": "stdout",
          "text": [
            "(891, 12)\n"
          ]
        }
      ],
      "source": [
        "# удаление дубликатов\n",
        "\n",
        "train_data = train_data.drop_duplicates()\n",
        "print(train_data.shape)"
      ]
    },
    {
      "cell_type": "markdown",
      "metadata": {
        "id": "0R-xbMQuTS3B"
      },
      "source": [
        "Исследуемый набор данных не содержит дубликатов."
      ]
    },
    {
      "cell_type": "code",
      "execution_count": null,
      "metadata": {
        "colab": {
          "base_uri": "https://localhost:8080/",
          "height": 300
        },
        "id": "jcB_PdsRSt_N",
        "outputId": "0cfa7a14-4d95-432d-b8a1-977387891729"
      },
      "outputs": [
        {
          "output_type": "execute_result",
          "data": {
            "text/plain": [
              "       PassengerId    Survived      Pclass         Age       SibSp  \\\n",
              "count   891.000000  891.000000  891.000000  714.000000  891.000000   \n",
              "mean    446.000000    0.383838    2.308642   29.699118    0.523008   \n",
              "std     257.353842    0.486592    0.836071   14.526497    1.102743   \n",
              "min       1.000000    0.000000    1.000000    0.420000    0.000000   \n",
              "25%     223.500000    0.000000    2.000000   20.125000    0.000000   \n",
              "50%     446.000000    0.000000    3.000000   28.000000    0.000000   \n",
              "75%     668.500000    1.000000    3.000000   38.000000    1.000000   \n",
              "max     891.000000    1.000000    3.000000   80.000000    8.000000   \n",
              "\n",
              "            Parch        Fare  \n",
              "count  891.000000  891.000000  \n",
              "mean     0.381594   32.204208  \n",
              "std      0.806057   49.693429  \n",
              "min      0.000000    0.000000  \n",
              "25%      0.000000    7.910400  \n",
              "50%      0.000000   14.454200  \n",
              "75%      0.000000   31.000000  \n",
              "max      6.000000  512.329200  "
            ],
            "text/html": [
              "\n",
              "  <div id=\"df-d262a152-b945-4e3a-aabc-5c773d539dca\">\n",
              "    <div class=\"colab-df-container\">\n",
              "      <div>\n",
              "<style scoped>\n",
              "    .dataframe tbody tr th:only-of-type {\n",
              "        vertical-align: middle;\n",
              "    }\n",
              "\n",
              "    .dataframe tbody tr th {\n",
              "        vertical-align: top;\n",
              "    }\n",
              "\n",
              "    .dataframe thead th {\n",
              "        text-align: right;\n",
              "    }\n",
              "</style>\n",
              "<table border=\"1\" class=\"dataframe\">\n",
              "  <thead>\n",
              "    <tr style=\"text-align: right;\">\n",
              "      <th></th>\n",
              "      <th>PassengerId</th>\n",
              "      <th>Survived</th>\n",
              "      <th>Pclass</th>\n",
              "      <th>Age</th>\n",
              "      <th>SibSp</th>\n",
              "      <th>Parch</th>\n",
              "      <th>Fare</th>\n",
              "    </tr>\n",
              "  </thead>\n",
              "  <tbody>\n",
              "    <tr>\n",
              "      <th>count</th>\n",
              "      <td>891.000000</td>\n",
              "      <td>891.000000</td>\n",
              "      <td>891.000000</td>\n",
              "      <td>714.000000</td>\n",
              "      <td>891.000000</td>\n",
              "      <td>891.000000</td>\n",
              "      <td>891.000000</td>\n",
              "    </tr>\n",
              "    <tr>\n",
              "      <th>mean</th>\n",
              "      <td>446.000000</td>\n",
              "      <td>0.383838</td>\n",
              "      <td>2.308642</td>\n",
              "      <td>29.699118</td>\n",
              "      <td>0.523008</td>\n",
              "      <td>0.381594</td>\n",
              "      <td>32.204208</td>\n",
              "    </tr>\n",
              "    <tr>\n",
              "      <th>std</th>\n",
              "      <td>257.353842</td>\n",
              "      <td>0.486592</td>\n",
              "      <td>0.836071</td>\n",
              "      <td>14.526497</td>\n",
              "      <td>1.102743</td>\n",
              "      <td>0.806057</td>\n",
              "      <td>49.693429</td>\n",
              "    </tr>\n",
              "    <tr>\n",
              "      <th>min</th>\n",
              "      <td>1.000000</td>\n",
              "      <td>0.000000</td>\n",
              "      <td>1.000000</td>\n",
              "      <td>0.420000</td>\n",
              "      <td>0.000000</td>\n",
              "      <td>0.000000</td>\n",
              "      <td>0.000000</td>\n",
              "    </tr>\n",
              "    <tr>\n",
              "      <th>25%</th>\n",
              "      <td>223.500000</td>\n",
              "      <td>0.000000</td>\n",
              "      <td>2.000000</td>\n",
              "      <td>20.125000</td>\n",
              "      <td>0.000000</td>\n",
              "      <td>0.000000</td>\n",
              "      <td>7.910400</td>\n",
              "    </tr>\n",
              "    <tr>\n",
              "      <th>50%</th>\n",
              "      <td>446.000000</td>\n",
              "      <td>0.000000</td>\n",
              "      <td>3.000000</td>\n",
              "      <td>28.000000</td>\n",
              "      <td>0.000000</td>\n",
              "      <td>0.000000</td>\n",
              "      <td>14.454200</td>\n",
              "    </tr>\n",
              "    <tr>\n",
              "      <th>75%</th>\n",
              "      <td>668.500000</td>\n",
              "      <td>1.000000</td>\n",
              "      <td>3.000000</td>\n",
              "      <td>38.000000</td>\n",
              "      <td>1.000000</td>\n",
              "      <td>0.000000</td>\n",
              "      <td>31.000000</td>\n",
              "    </tr>\n",
              "    <tr>\n",
              "      <th>max</th>\n",
              "      <td>891.000000</td>\n",
              "      <td>1.000000</td>\n",
              "      <td>3.000000</td>\n",
              "      <td>80.000000</td>\n",
              "      <td>8.000000</td>\n",
              "      <td>6.000000</td>\n",
              "      <td>512.329200</td>\n",
              "    </tr>\n",
              "  </tbody>\n",
              "</table>\n",
              "</div>\n",
              "      <button class=\"colab-df-convert\" onclick=\"convertToInteractive('df-d262a152-b945-4e3a-aabc-5c773d539dca')\"\n",
              "              title=\"Convert this dataframe to an interactive table.\"\n",
              "              style=\"display:none;\">\n",
              "        \n",
              "  <svg xmlns=\"http://www.w3.org/2000/svg\" height=\"24px\"viewBox=\"0 0 24 24\"\n",
              "       width=\"24px\">\n",
              "    <path d=\"M0 0h24v24H0V0z\" fill=\"none\"/>\n",
              "    <path d=\"M18.56 5.44l.94 2.06.94-2.06 2.06-.94-2.06-.94-.94-2.06-.94 2.06-2.06.94zm-11 1L8.5 8.5l.94-2.06 2.06-.94-2.06-.94L8.5 2.5l-.94 2.06-2.06.94zm10 10l.94 2.06.94-2.06 2.06-.94-2.06-.94-.94-2.06-.94 2.06-2.06.94z\"/><path d=\"M17.41 7.96l-1.37-1.37c-.4-.4-.92-.59-1.43-.59-.52 0-1.04.2-1.43.59L10.3 9.45l-7.72 7.72c-.78.78-.78 2.05 0 2.83L4 21.41c.39.39.9.59 1.41.59.51 0 1.02-.2 1.41-.59l7.78-7.78 2.81-2.81c.8-.78.8-2.07 0-2.86zM5.41 20L4 18.59l7.72-7.72 1.47 1.35L5.41 20z\"/>\n",
              "  </svg>\n",
              "      </button>\n",
              "      \n",
              "  <style>\n",
              "    .colab-df-container {\n",
              "      display:flex;\n",
              "      flex-wrap:wrap;\n",
              "      gap: 12px;\n",
              "    }\n",
              "\n",
              "    .colab-df-convert {\n",
              "      background-color: #E8F0FE;\n",
              "      border: none;\n",
              "      border-radius: 50%;\n",
              "      cursor: pointer;\n",
              "      display: none;\n",
              "      fill: #1967D2;\n",
              "      height: 32px;\n",
              "      padding: 0 0 0 0;\n",
              "      width: 32px;\n",
              "    }\n",
              "\n",
              "    .colab-df-convert:hover {\n",
              "      background-color: #E2EBFA;\n",
              "      box-shadow: 0px 1px 2px rgba(60, 64, 67, 0.3), 0px 1px 3px 1px rgba(60, 64, 67, 0.15);\n",
              "      fill: #174EA6;\n",
              "    }\n",
              "\n",
              "    [theme=dark] .colab-df-convert {\n",
              "      background-color: #3B4455;\n",
              "      fill: #D2E3FC;\n",
              "    }\n",
              "\n",
              "    [theme=dark] .colab-df-convert:hover {\n",
              "      background-color: #434B5C;\n",
              "      box-shadow: 0px 1px 3px 1px rgba(0, 0, 0, 0.15);\n",
              "      filter: drop-shadow(0px 1px 2px rgba(0, 0, 0, 0.3));\n",
              "      fill: #FFFFFF;\n",
              "    }\n",
              "  </style>\n",
              "\n",
              "      <script>\n",
              "        const buttonEl =\n",
              "          document.querySelector('#df-d262a152-b945-4e3a-aabc-5c773d539dca button.colab-df-convert');\n",
              "        buttonEl.style.display =\n",
              "          google.colab.kernel.accessAllowed ? 'block' : 'none';\n",
              "\n",
              "        async function convertToInteractive(key) {\n",
              "          const element = document.querySelector('#df-d262a152-b945-4e3a-aabc-5c773d539dca');\n",
              "          const dataTable =\n",
              "            await google.colab.kernel.invokeFunction('convertToInteractive',\n",
              "                                                     [key], {});\n",
              "          if (!dataTable) return;\n",
              "\n",
              "          const docLinkHtml = 'Like what you see? Visit the ' +\n",
              "            '<a target=\"_blank\" href=https://colab.research.google.com/notebooks/data_table.ipynb>data table notebook</a>'\n",
              "            + ' to learn more about interactive tables.';\n",
              "          element.innerHTML = '';\n",
              "          dataTable['output_type'] = 'display_data';\n",
              "          await google.colab.output.renderOutput(dataTable, element);\n",
              "          const docLink = document.createElement('div');\n",
              "          docLink.innerHTML = docLinkHtml;\n",
              "          element.appendChild(docLink);\n",
              "        }\n",
              "      </script>\n",
              "    </div>\n",
              "  </div>\n",
              "  "
            ]
          },
          "metadata": {},
          "execution_count": 7
        }
      ],
      "source": [
        "# основные статистические характеристики каждого числового признака (int64 и float64)\n",
        "\n",
        "train_data.describe()"
      ]
    },
    {
      "cell_type": "markdown",
      "source": [
        "В полученной таблице содержится основная информация о числовых признаках датасета: количество записей, среднее, медианное, максимальное и минимальное значения, стандартное отклонение, 0.25 и 0.75 квартили.\n",
        "\n",
        "То есть возвращается статистическая информация, которая дает представление о распределении значений. "
      ],
      "metadata": {
        "id": "fkSUtC086nVi"
      }
    },
    {
      "cell_type": "code",
      "execution_count": null,
      "metadata": {
        "colab": {
          "base_uri": "https://localhost:8080/",
          "height": 175
        },
        "id": "Rw89D5ZKSlL1",
        "outputId": "66f7b33f-d057-48e0-d72d-1010ce288ce8"
      },
      "outputs": [
        {
          "output_type": "execute_result",
          "data": {
            "text/plain": [
              "                           Name   Sex  Ticket    Cabin Embarked\n",
              "count                       891   891     891      204      889\n",
              "unique                      891     2     681      147        3\n",
              "top     Braund, Mr. Owen Harris  male  347082  B96 B98        S\n",
              "freq                          1   577       7        4      644"
            ],
            "text/html": [
              "\n",
              "  <div id=\"df-916ab01f-866c-47aa-9f16-d375e416e10e\">\n",
              "    <div class=\"colab-df-container\">\n",
              "      <div>\n",
              "<style scoped>\n",
              "    .dataframe tbody tr th:only-of-type {\n",
              "        vertical-align: middle;\n",
              "    }\n",
              "\n",
              "    .dataframe tbody tr th {\n",
              "        vertical-align: top;\n",
              "    }\n",
              "\n",
              "    .dataframe thead th {\n",
              "        text-align: right;\n",
              "    }\n",
              "</style>\n",
              "<table border=\"1\" class=\"dataframe\">\n",
              "  <thead>\n",
              "    <tr style=\"text-align: right;\">\n",
              "      <th></th>\n",
              "      <th>Name</th>\n",
              "      <th>Sex</th>\n",
              "      <th>Ticket</th>\n",
              "      <th>Cabin</th>\n",
              "      <th>Embarked</th>\n",
              "    </tr>\n",
              "  </thead>\n",
              "  <tbody>\n",
              "    <tr>\n",
              "      <th>count</th>\n",
              "      <td>891</td>\n",
              "      <td>891</td>\n",
              "      <td>891</td>\n",
              "      <td>204</td>\n",
              "      <td>889</td>\n",
              "    </tr>\n",
              "    <tr>\n",
              "      <th>unique</th>\n",
              "      <td>891</td>\n",
              "      <td>2</td>\n",
              "      <td>681</td>\n",
              "      <td>147</td>\n",
              "      <td>3</td>\n",
              "    </tr>\n",
              "    <tr>\n",
              "      <th>top</th>\n",
              "      <td>Braund, Mr. Owen Harris</td>\n",
              "      <td>male</td>\n",
              "      <td>347082</td>\n",
              "      <td>B96 B98</td>\n",
              "      <td>S</td>\n",
              "    </tr>\n",
              "    <tr>\n",
              "      <th>freq</th>\n",
              "      <td>1</td>\n",
              "      <td>577</td>\n",
              "      <td>7</td>\n",
              "      <td>4</td>\n",
              "      <td>644</td>\n",
              "    </tr>\n",
              "  </tbody>\n",
              "</table>\n",
              "</div>\n",
              "      <button class=\"colab-df-convert\" onclick=\"convertToInteractive('df-916ab01f-866c-47aa-9f16-d375e416e10e')\"\n",
              "              title=\"Convert this dataframe to an interactive table.\"\n",
              "              style=\"display:none;\">\n",
              "        \n",
              "  <svg xmlns=\"http://www.w3.org/2000/svg\" height=\"24px\"viewBox=\"0 0 24 24\"\n",
              "       width=\"24px\">\n",
              "    <path d=\"M0 0h24v24H0V0z\" fill=\"none\"/>\n",
              "    <path d=\"M18.56 5.44l.94 2.06.94-2.06 2.06-.94-2.06-.94-.94-2.06-.94 2.06-2.06.94zm-11 1L8.5 8.5l.94-2.06 2.06-.94-2.06-.94L8.5 2.5l-.94 2.06-2.06.94zm10 10l.94 2.06.94-2.06 2.06-.94-2.06-.94-.94-2.06-.94 2.06-2.06.94z\"/><path d=\"M17.41 7.96l-1.37-1.37c-.4-.4-.92-.59-1.43-.59-.52 0-1.04.2-1.43.59L10.3 9.45l-7.72 7.72c-.78.78-.78 2.05 0 2.83L4 21.41c.39.39.9.59 1.41.59.51 0 1.02-.2 1.41-.59l7.78-7.78 2.81-2.81c.8-.78.8-2.07 0-2.86zM5.41 20L4 18.59l7.72-7.72 1.47 1.35L5.41 20z\"/>\n",
              "  </svg>\n",
              "      </button>\n",
              "      \n",
              "  <style>\n",
              "    .colab-df-container {\n",
              "      display:flex;\n",
              "      flex-wrap:wrap;\n",
              "      gap: 12px;\n",
              "    }\n",
              "\n",
              "    .colab-df-convert {\n",
              "      background-color: #E8F0FE;\n",
              "      border: none;\n",
              "      border-radius: 50%;\n",
              "      cursor: pointer;\n",
              "      display: none;\n",
              "      fill: #1967D2;\n",
              "      height: 32px;\n",
              "      padding: 0 0 0 0;\n",
              "      width: 32px;\n",
              "    }\n",
              "\n",
              "    .colab-df-convert:hover {\n",
              "      background-color: #E2EBFA;\n",
              "      box-shadow: 0px 1px 2px rgba(60, 64, 67, 0.3), 0px 1px 3px 1px rgba(60, 64, 67, 0.15);\n",
              "      fill: #174EA6;\n",
              "    }\n",
              "\n",
              "    [theme=dark] .colab-df-convert {\n",
              "      background-color: #3B4455;\n",
              "      fill: #D2E3FC;\n",
              "    }\n",
              "\n",
              "    [theme=dark] .colab-df-convert:hover {\n",
              "      background-color: #434B5C;\n",
              "      box-shadow: 0px 1px 3px 1px rgba(0, 0, 0, 0.15);\n",
              "      filter: drop-shadow(0px 1px 2px rgba(0, 0, 0, 0.3));\n",
              "      fill: #FFFFFF;\n",
              "    }\n",
              "  </style>\n",
              "\n",
              "      <script>\n",
              "        const buttonEl =\n",
              "          document.querySelector('#df-916ab01f-866c-47aa-9f16-d375e416e10e button.colab-df-convert');\n",
              "        buttonEl.style.display =\n",
              "          google.colab.kernel.accessAllowed ? 'block' : 'none';\n",
              "\n",
              "        async function convertToInteractive(key) {\n",
              "          const element = document.querySelector('#df-916ab01f-866c-47aa-9f16-d375e416e10e');\n",
              "          const dataTable =\n",
              "            await google.colab.kernel.invokeFunction('convertToInteractive',\n",
              "                                                     [key], {});\n",
              "          if (!dataTable) return;\n",
              "\n",
              "          const docLinkHtml = 'Like what you see? Visit the ' +\n",
              "            '<a target=\"_blank\" href=https://colab.research.google.com/notebooks/data_table.ipynb>data table notebook</a>'\n",
              "            + ' to learn more about interactive tables.';\n",
              "          element.innerHTML = '';\n",
              "          dataTable['output_type'] = 'display_data';\n",
              "          await google.colab.output.renderOutput(dataTable, element);\n",
              "          const docLink = document.createElement('div');\n",
              "          docLink.innerHTML = docLinkHtml;\n",
              "          element.appendChild(docLink);\n",
              "        }\n",
              "      </script>\n",
              "    </div>\n",
              "  </div>\n",
              "  "
            ]
          },
          "metadata": {},
          "execution_count": 8
        }
      ],
      "source": [
        "# статистика для нечисловых признаков\n",
        "\n",
        "train_data.describe(include=['object'])"
      ]
    },
    {
      "cell_type": "markdown",
      "source": [
        "В полученной таблице содержится информация о строковых признаках датасета: количество записей, количество уникальных значений, наиболее распространенное значение и его частота."
      ],
      "metadata": {
        "id": "snAF1qno9kKe"
      }
    },
    {
      "cell_type": "code",
      "execution_count": null,
      "metadata": {
        "colab": {
          "base_uri": "https://localhost:8080/"
        },
        "id": "V8ezRg5FRSAn",
        "outputId": "1bb330cd-6c20-4ab6-c2c3-a98c6ac0a12d"
      },
      "outputs": [
        {
          "output_type": "execute_result",
          "data": {
            "text/plain": [
              "PassengerId     0.000000\n",
              "Survived        0.000000\n",
              "Pclass          0.000000\n",
              "Name            0.000000\n",
              "Sex             0.000000\n",
              "Age            19.865320\n",
              "SibSp           0.000000\n",
              "Parch           0.000000\n",
              "Ticket          0.000000\n",
              "Fare            0.000000\n",
              "Cabin          77.104377\n",
              "Embarked        0.224467\n",
              "dtype: float64"
            ]
          },
          "metadata": {},
          "execution_count": 9
        }
      ],
      "source": [
        "# концентрация пропусков в каждом столбце (в процентах)\n",
        "\n",
        "train_data.isnull().mean() * 100"
      ]
    },
    {
      "cell_type": "markdown",
      "metadata": {
        "id": "TlY22ncHQBNa"
      },
      "source": [
        "Три показателя содержат пропуски в данных:\n",
        "\n",
        "1.   Age (возраст) - порядка 19,9%;\n",
        "2.   Cabin (номер каюты) - порядка 77,1%;\n",
        "3.   Embarked (порт погрузки) - 0,22%.\n",
        "\n",
        "Больше всего пропуксов в переменной 'Cabin'.\n",
        "Отметим, что концентрация пропусков для столбца 'Cabin' свыше 70%, поэтому требуется его удаление, удаление остальных столбцов не требуется.\n",
        "\n",
        "Кроме того, удалим столбцы 'PassengerId', 'Name', 'Ticket', которые могут привести к переобучению."
      ]
    },
    {
      "cell_type": "code",
      "execution_count": null,
      "metadata": {
        "id": "aL1WkVHRNpbp"
      },
      "outputs": [],
      "source": [
        "# удаление столбцов\n",
        "\n",
        "data = train_data.drop(columns=['PassengerId', 'Cabin', 'Name', 'Ticket'])"
      ]
    },
    {
      "cell_type": "markdown",
      "metadata": {
        "id": "4WK05BGpnYIx"
      },
      "source": [
        "Пропущенные значения в столбце 'Age' заменим средним значением.\n",
        "\n",
        "Пропущенные значения в столбце 'Embarked' наиболее часто встречающимся значением."
      ]
    },
    {
      "cell_type": "code",
      "execution_count": null,
      "metadata": {
        "id": "00ACT-6Olwgf"
      },
      "outputs": [],
      "source": [
        "data['Age'].fillna(data['Age'].mean(), inplace = True)\n",
        "data['Embarked'].replace(np.nan, 'S', inplace = True)"
      ]
    },
    {
      "cell_type": "code",
      "execution_count": null,
      "metadata": {
        "id": "C0Sx6vp2ozfH"
      },
      "outputs": [],
      "source": [
        "# Числовые признаки\n",
        "num_cols = [\n",
        "    'Pclass', \n",
        "    'Age', \n",
        "    'SibSp', \n",
        "    'Parch', \n",
        "    'Fare'\n",
        "]\n",
        "\n",
        "# Категориальные признаки\n",
        "cat_cols = [\n",
        "    'Sex',\n",
        "    'Embarked'\n",
        "]"
      ]
    },
    {
      "cell_type": "code",
      "execution_count": null,
      "metadata": {
        "id": "7wJLpGYfiErC"
      },
      "outputs": [],
      "source": [
        "X = data.iloc[:, 1:]\n",
        "y = data['Survived']"
      ]
    },
    {
      "cell_type": "code",
      "execution_count": null,
      "metadata": {
        "id": "zwk1vepBh3rS"
      },
      "outputs": [],
      "source": [
        "X_train, X_test, y_train, y_test = train_test_split(X, y, test_size=0.2, random_state=42)"
      ]
    },
    {
      "cell_type": "code",
      "execution_count": null,
      "metadata": {
        "id": "Gf-veeddoGb5"
      },
      "outputs": [],
      "source": [
        "# преобразование признаков\n",
        "\n",
        "prep_pipeline = ColumnTransformer([\n",
        "        ('num', StandardScaler(), num_cols),\n",
        "        ('cat', OneHotEncoder(drop='if_binary', sparse=False), cat_cols)\n",
        "    ])"
      ]
    },
    {
      "cell_type": "code",
      "execution_count": null,
      "metadata": {
        "colab": {
          "base_uri": "https://localhost:8080/"
        },
        "id": "5Ex3IymrrrBy",
        "outputId": "c08aa00a-2dba-4b83-f29c-dea15f6aabba"
      },
      "outputs": [
        {
          "output_type": "execute_result",
          "data": {
            "text/plain": [
              "Pipeline(steps=[('columntransformer',\n",
              "                 ColumnTransformer(transformers=[('num', StandardScaler(),\n",
              "                                                  ['Pclass', 'Age', 'SibSp',\n",
              "                                                   'Parch', 'Fare']),\n",
              "                                                 ('cat',\n",
              "                                                  OneHotEncoder(drop='if_binary',\n",
              "                                                                sparse=False),\n",
              "                                                  ['Sex', 'Embarked'])])),\n",
              "                ('logisticregression', LogisticRegression())])"
            ]
          },
          "metadata": {},
          "execution_count": 17
        }
      ],
      "source": [
        "# создание модели LogisticRegression\n",
        "clf_lr = make_pipeline(\n",
        "                    prep_pipeline,\n",
        "                    LogisticRegression()\n",
        "                  )\n",
        "\n",
        "# обучение модели\n",
        "clf_lr.fit(X_train, y_train)"
      ]
    },
    {
      "cell_type": "code",
      "execution_count": null,
      "metadata": {
        "colab": {
          "base_uri": "https://localhost:8080/"
        },
        "id": "sGlqTgdutkjH",
        "outputId": "eee5688b-e81e-4b8f-c81f-627b5aabb1f6"
      },
      "outputs": [
        {
          "output_type": "stream",
          "name": "stdout",
          "text": [
            "LogisticRegression\n",
            "\n",
            "MSE train=0.20\n",
            "MAE train=0.20\n",
            "R2 train=0.16\n",
            "Accuracy train=0.80\n",
            "Precision train=0.76\n",
            "Recall train=0.69\n",
            "ROC-AUC train=0.78\n",
            "\n",
            "MSE test=0.19\n",
            "MAE test=0.19\n",
            "R2 test=0.22\n",
            "Accuracy test=0.81\n",
            "Precision test=0.79\n",
            "Recall test=0.74\n",
            "ROC-AUC test=0.80\n",
            "\n"
          ]
        }
      ],
      "source": [
        "print(\"LogisticRegression\\n\")\n",
        "for X, y, label in zip([X_train, X_test], [y_train, y_test], ['train', 'test']):\n",
        "  y_pred_lr = clf_lr.predict(X)\n",
        "  print(f'MSE {label}={mean_squared_error(y, y_pred_lr):.2f}')\n",
        "  print(f'MAE {label}={mean_absolute_error(y, y_pred_lr):.2f}')\n",
        "  print(f'R2 {label}={r2_score(y, y_pred_lr):.2f}')\n",
        "  print(f'Accuracy {label}={accuracy_score(y, y_pred_lr):.2f}')\n",
        "  print(f'Precision {label}={precision_score(y, y_pred_lr):.2f}')\n",
        "  print(f'Recall {label}={recall_score(y, y_pred_lr):.2f}')\n",
        "  print(f'ROC-AUC {label}={roc_auc_score(y, y_pred_lr):.2f}')\n",
        "  print()   "
      ]
    },
    {
      "cell_type": "code",
      "execution_count": null,
      "metadata": {
        "colab": {
          "base_uri": "https://localhost:8080/"
        },
        "id": "vxD70rwSsS4I",
        "outputId": "fd34e2cf-586e-4eac-e423-bd221c34bee1"
      },
      "outputs": [
        {
          "output_type": "execute_result",
          "data": {
            "text/plain": [
              "Pipeline(steps=[('columntransformer',\n",
              "                 ColumnTransformer(transformers=[('num', StandardScaler(),\n",
              "                                                  ['Pclass', 'Age', 'SibSp',\n",
              "                                                   'Parch', 'Fare']),\n",
              "                                                 ('cat',\n",
              "                                                  OneHotEncoder(drop='if_binary',\n",
              "                                                                sparse=False),\n",
              "                                                  ['Sex', 'Embarked'])])),\n",
              "                ('kneighborsclassifier', KNeighborsClassifier())])"
            ]
          },
          "metadata": {},
          "execution_count": 19
        }
      ],
      "source": [
        "# создание модели KNeighborsClassifier\n",
        "clf_knn = make_pipeline(\n",
        "                    prep_pipeline,\n",
        "                    KNeighborsClassifier()\n",
        "                  )\n",
        "\n",
        "# обучение модели\n",
        "clf_knn.fit(X_train, y_train)"
      ]
    },
    {
      "cell_type": "code",
      "execution_count": null,
      "metadata": {
        "colab": {
          "base_uri": "https://localhost:8080/"
        },
        "id": "WoXSolKZs6sn",
        "outputId": "f0719267-b7e8-4e8d-edd4-51f7c0d27aad"
      },
      "outputs": [
        {
          "output_type": "stream",
          "name": "stdout",
          "text": [
            "KNeighborsClassifier\n",
            "\n",
            "MSE train=0.14\n",
            "MAE train=0.14\n",
            "R2 train=0.39\n",
            "Accuracy train=0.86\n",
            "Precision train=0.85\n",
            "Recall train=0.75\n",
            "ROC-AUC train=0.84\n",
            "\n",
            "MSE test=0.18\n",
            "MAE test=0.18\n",
            "R2 test=0.24\n",
            "Accuracy test=0.82\n",
            "Precision test=0.81\n",
            "Recall test=0.73\n",
            "ROC-AUC test=0.80\n",
            "\n"
          ]
        }
      ],
      "source": [
        "print(\"KNeighborsClassifier\\n\")\n",
        "for X, y, label in zip([X_train, X_test], [y_train, y_test], ['train', 'test']):\n",
        "  y_pred_knn = clf_knn.predict(X)\n",
        "  print(f'MSE {label}={mean_squared_error(y, y_pred_knn):.2f}')\n",
        "  print(f'MAE {label}={mean_absolute_error(y, y_pred_knn):.2f}')\n",
        "  print(f'R2 {label}={r2_score(y, y_pred_knn):.2f}')\n",
        "  print(f'Accuracy {label}={accuracy_score(y, y_pred_knn):.2f}')\n",
        "  print(f'Precision {label}={precision_score(y, y_pred_knn):.2f}')\n",
        "  print(f'Recall {label}={recall_score(y, y_pred_knn):.2f}')\n",
        "  print(f'ROC-AUC {label}={roc_auc_score(y, y_pred_knn):.2f}')\n",
        "  print()"
      ]
    },
    {
      "cell_type": "markdown",
      "metadata": {
        "id": "2SHmIZZ0oGB3"
      },
      "source": [
        "Выводы:\n",
        "\n",
        "- по совокупности исследуемых метрик метод KNN показал результаты лучше, чем метод LR;\n",
        "- на тестовой выборке метод LR показал результаты лучше, чем на обучающей выборке;\n",
        "- на тестовой выборке метод KNN показал результаты хуже, чем на обучающей выборке."
      ]
    },
    {
      "cell_type": "markdown",
      "source": [
        "Подбор гиперпараметров для обеих моделей с помощью RandomizedSearchCV."
      ],
      "metadata": {
        "id": "DoWBDQcGALws"
      }
    },
    {
      "cell_type": "code",
      "execution_count": null,
      "metadata": {
        "colab": {
          "base_uri": "https://localhost:8080/"
        },
        "id": "RuRAZal0fzRN",
        "outputId": "c46036d1-d291-47bf-b686-7788d17c8cf4"
      },
      "outputs": [
        {
          "output_type": "stream",
          "name": "stdout",
          "text": [
            "Best estimator's parameters: {'logisticregression__solver': 'saga', 'logisticregression__C': 0.14}\n"
          ]
        }
      ],
      "source": [
        "clf_lr = make_pipeline(\n",
        "                    prep_pipeline,\n",
        "                    LogisticRegression()\n",
        "                  )\n",
        "\n",
        "params_lr = { 'logisticregression__C': np.linspace(0.01, 50, 5000), #[500, 50, 100, 10, 5, 1, 0.5, 0.1, 0.05, 0.01, 0.005, 0.001],\n",
        "              'logisticregression__solver': ['newton-cg', 'lbfgs', 'liblinear', 'sag', 'saga']}\n",
        "\n",
        "search_lr = RandomizedSearchCV(clf_lr, params_lr, n_iter=30, n_jobs=-1, cv=5)\n",
        "\n",
        "search_lr.fit(X_train, y_train)\n",
        "\n",
        "print(\"Best estimator's parameters:\", search_lr.best_params_)"
      ]
    },
    {
      "cell_type": "code",
      "execution_count": null,
      "metadata": {
        "colab": {
          "base_uri": "https://localhost:8080/"
        },
        "id": "cyBVoaAQootz",
        "outputId": "a76ee879-7aeb-4b64-c15d-0eb04681795e"
      },
      "outputs": [
        {
          "output_type": "execute_result",
          "data": {
            "text/plain": [
              "Pipeline(steps=[('columntransformer',\n",
              "                 ColumnTransformer(transformers=[('num', StandardScaler(),\n",
              "                                                  ['Pclass', 'Age', 'SibSp',\n",
              "                                                   'Parch', 'Fare']),\n",
              "                                                 ('cat',\n",
              "                                                  OneHotEncoder(drop='if_binary',\n",
              "                                                                sparse=False),\n",
              "                                                  ['Sex', 'Embarked'])])),\n",
              "                ('logisticregression',\n",
              "                 LogisticRegression(C=0.14, solver='saga'))])"
            ]
          },
          "metadata": {},
          "execution_count": 22
        }
      ],
      "source": [
        "# обучим модели на полученных параметрах\n",
        "\n",
        "# создание модели LogisticRegression\n",
        "clf_lr = make_pipeline(\n",
        "                    prep_pipeline,\n",
        "                    LogisticRegression(solver='saga', C=0.14)\n",
        "                  )\n",
        "\n",
        "# обучение модели\n",
        "clf_lr.fit(X_train, y_train)"
      ]
    },
    {
      "cell_type": "code",
      "execution_count": null,
      "metadata": {
        "colab": {
          "base_uri": "https://localhost:8080/"
        },
        "id": "cOcMIuAnqhuj",
        "outputId": "2793b8c2-79e7-4a5a-c36a-c4064f4c82b2"
      },
      "outputs": [
        {
          "output_type": "stream",
          "name": "stdout",
          "text": [
            "LogisticRegression\n",
            "\n",
            "MSE train=0.19\n",
            "MAE train=0.19\n",
            "R2 train=0.17\n",
            "Accuracy train=0.81\n",
            "Precision train=0.78\n",
            "Recall train=0.68\n",
            "ROC-AUC train=0.78\n",
            "\n",
            "MSE test=0.20\n",
            "MAE test=0.20\n",
            "R2 test=0.19\n",
            "Accuracy test=0.80\n",
            "Precision test=0.77\n",
            "Recall test=0.74\n",
            "ROC-AUC test=0.80\n",
            "\n"
          ]
        }
      ],
      "source": [
        "print(\"LogisticRegression\\n\")\n",
        "for X, y, label in zip([X_train, X_test], [y_train, y_test], ['train', 'test']):\n",
        "  y_pred_lr = clf_lr.predict(X)\n",
        "  print(f'MSE {label}={mean_squared_error(y, y_pred_lr):.2f}')\n",
        "  print(f'MAE {label}={mean_absolute_error(y, y_pred_lr):.2f}')\n",
        "  print(f'R2 {label}={r2_score(y, y_pred_lr):.2f}')\n",
        "  print(f'Accuracy {label}={accuracy_score(y, y_pred_lr):.2f}')\n",
        "  print(f'Precision {label}={precision_score(y, y_pred_lr):.2f}')\n",
        "  print(f'Recall {label}={recall_score(y, y_pred_lr):.2f}')\n",
        "  print(f'ROC-AUC {label}={roc_auc_score(y, y_pred_lr):.2f}')\n",
        "  print()   "
      ]
    },
    {
      "cell_type": "code",
      "execution_count": null,
      "metadata": {
        "colab": {
          "base_uri": "https://localhost:8080/"
        },
        "id": "L7ftRIrkgyfB",
        "outputId": "5028c8b5-be5c-4614-d383-23650ca1b9df"
      },
      "outputs": [
        {
          "output_type": "stream",
          "name": "stdout",
          "text": [
            "Best estimator's parameters: {'kneighborsclassifier__weights': 'uniform', 'kneighborsclassifier__n_neighbors': 8, 'kneighborsclassifier__metric': 'cityblock', 'kneighborsclassifier__algorithm': 'ball_tree'}\n"
          ]
        }
      ],
      "source": [
        "clf_knn = make_pipeline(\n",
        "                    prep_pipeline,\n",
        "                    KNeighborsClassifier()\n",
        "                  )\n",
        "\n",
        "params_knn = {\n",
        "    'kneighborsclassifier__n_neighbors': np.arange(1, 11), \n",
        "    'kneighborsclassifier__metric': ['manhattan', 'euclidean', 'cityblock', 'l1', 'l2', 'minkowski'],\n",
        "    'kneighborsclassifier__weights': ['uniform', 'distance'],\n",
        "    'kneighborsclassifier__algorithm': ['auto', 'ball_tree', 'kd_tree', 'brute']\n",
        "}\n",
        "\n",
        "search_knn = RandomizedSearchCV(clf_knn, params_knn, n_iter=30, n_jobs=-1, cv=5)\n",
        "\n",
        "search_knn.fit(X_train, y_train)\n",
        "\n",
        "print(\"Best estimator's parameters:\", search_knn.best_params_)"
      ]
    },
    {
      "cell_type": "code",
      "execution_count": null,
      "metadata": {
        "colab": {
          "base_uri": "https://localhost:8080/"
        },
        "id": "a_6jab0qqlbL",
        "outputId": "024ba086-a128-499a-93ef-359539c687f5"
      },
      "outputs": [
        {
          "output_type": "execute_result",
          "data": {
            "text/plain": [
              "Pipeline(steps=[('columntransformer',\n",
              "                 ColumnTransformer(transformers=[('num', StandardScaler(),\n",
              "                                                  ['Pclass', 'Age', 'SibSp',\n",
              "                                                   'Parch', 'Fare']),\n",
              "                                                 ('cat',\n",
              "                                                  OneHotEncoder(drop='if_binary',\n",
              "                                                                sparse=False),\n",
              "                                                  ['Sex', 'Embarked'])])),\n",
              "                ('kneighborsclassifier',\n",
              "                 KNeighborsClassifier(algorithm='ball_tree', metric='cityblock',\n",
              "                                      n_neighbors=8))])"
            ]
          },
          "metadata": {},
          "execution_count": 25
        }
      ],
      "source": [
        "# создание модели KNeighborsClassifier\n",
        "clf_knn = make_pipeline(\n",
        "                    prep_pipeline,\n",
        "                    KNeighborsClassifier(weights='uniform', n_neighbors=8, metric='cityblock', algorithm='ball_tree')\n",
        "                  )\n",
        "\n",
        "# обучение модели\n",
        "clf_knn.fit(X_train, y_train)"
      ]
    },
    {
      "cell_type": "code",
      "execution_count": null,
      "metadata": {
        "colab": {
          "base_uri": "https://localhost:8080/"
        },
        "id": "kNHMKpzDqu_o",
        "outputId": "aef3397b-77d4-4225-ee84-3d752818c6f5"
      },
      "outputs": [
        {
          "output_type": "stream",
          "name": "stdout",
          "text": [
            "KNeighborsClassifier\n",
            "\n",
            "MSE train=0.17\n",
            "MAE train=0.17\n",
            "R2 train=0.29\n",
            "Accuracy train=0.83\n",
            "Precision train=0.86\n",
            "Recall train=0.67\n",
            "ROC-AUC train=0.80\n",
            "\n",
            "MSE test=0.21\n",
            "MAE test=0.21\n",
            "R2 test=0.15\n",
            "Accuracy test=0.79\n",
            "Precision test=0.81\n",
            "Recall test=0.65\n",
            "ROC-AUC test=0.77\n",
            "\n"
          ]
        }
      ],
      "source": [
        "print(\"KNeighborsClassifier\\n\")\n",
        "for X, y, label in zip([X_train, X_test], [y_train, y_test], ['train', 'test']):\n",
        "  y_pred_knn = clf_knn.predict(X)\n",
        "  print(f'MSE {label}={mean_squared_error(y, y_pred_knn):.2f}')\n",
        "  print(f'MAE {label}={mean_absolute_error(y, y_pred_knn):.2f}')\n",
        "  print(f'R2 {label}={r2_score(y, y_pred_knn):.2f}')\n",
        "  print(f'Accuracy {label}={accuracy_score(y, y_pred_knn):.2f}')\n",
        "  print(f'Precision {label}={precision_score(y, y_pred_knn):.2f}')\n",
        "  print(f'Recall {label}={recall_score(y, y_pred_knn):.2f}')\n",
        "  print(f'ROC-AUC {label}={roc_auc_score(y, y_pred_knn):.2f}')\n",
        "  print()"
      ]
    },
    {
      "cell_type": "markdown",
      "metadata": {
        "id": "yqb-zb4kqKYU"
      },
      "source": [
        "Используемый в работе метод подбора гиперпараметров моделей RandomizedSearchCV() позволяет осуществить поиск по параметрам, где каждый параметр выбирается из распределения по возможным значениям параметров.\n",
        "\n",
        "То есть данный метод позволяет довольно грубо исследовать широкие диапазоны значений. \n",
        "\n",
        "Отметим, что при различных запусках метода можно получить различные наборы гиперпараметров методов."
      ]
    },
    {
      "cell_type": "markdown",
      "source": [
        "Выводы:\n",
        "\n",
        "- на обучающей выборке по совокупности исследуемых метрик метод KNN показал результаты лучше, чем метод LR;\n",
        "- на тестовой выборке метод LR показал результаты примерно одинаковые (изменения ±0.01-0.02), как на обучающей выборке, при этом достаточно увеличилось значение матрики Recall - на 0.06;\n",
        "- на тестовой выборке метод KNN показал результаты хуже, чем на обучающей выборке;\n",
        "- подобранные с помощью метода RandomizedSearchCV() гиперпараметры позволили улучшить значения метрик на обучающей выборке для метода LR в сравнении с базовой моделью, однако на тестовой выборке показания метрик ухудшились, как для метода LR, так и для метода KNN."
      ],
      "metadata": {
        "id": "cH_0Ug69DZqq"
      }
    },
    {
      "cell_type": "markdown",
      "source": [
        "Предсказания моделей (с подобранными гиперпараметрами) на наборе данных test.csv."
      ],
      "metadata": {
        "id": "3mAf80TTDhRY"
      }
    },
    {
      "cell_type": "code",
      "execution_count": null,
      "metadata": {
        "id": "SikwC4Uvt_DM"
      },
      "outputs": [],
      "source": [
        "test_data = test_data.drop(columns=['PassengerId', 'Cabin', 'Name', 'Ticket'])"
      ]
    },
    {
      "cell_type": "code",
      "execution_count": null,
      "metadata": {
        "id": "7YwawGLPuKWW"
      },
      "outputs": [],
      "source": [
        "test_data['Age'].fillna(test_data['Age'].mean(), inplace = True)\n",
        "test_data['Embarked'].replace(np.nan, 'S', inplace = True)"
      ]
    },
    {
      "cell_type": "code",
      "source": [
        "test_data['Fare'].fillna(test_data['Fare'].mean(), inplace = True)"
      ],
      "metadata": {
        "id": "e-cy66XA4rEq"
      },
      "execution_count": null,
      "outputs": []
    },
    {
      "cell_type": "code",
      "execution_count": null,
      "metadata": {
        "id": "m82wK5xPuDpp"
      },
      "outputs": [],
      "source": [
        "y_pred_knn = clf_knn.predict(test_data)\n",
        "y_pred_lrr = clf_lr.predict(test_data)"
      ]
    }
  ],
  "metadata": {
    "colab": {
      "provenance": []
    },
    "kernelspec": {
      "display_name": "Python 3",
      "name": "python3"
    },
    "language_info": {
      "name": "python"
    }
  },
  "nbformat": 4,
  "nbformat_minor": 0
}